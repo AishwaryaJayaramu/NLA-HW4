{
 "cells": [
  {
   "cell_type": "markdown",
   "id": "0ae7d650",
   "metadata": {},
   "source": [
    "# Chapter 8 - Gram-Schmidt Orthogonalization"
   ]
  },
  {
   "cell_type": "code",
   "execution_count": 1,
   "id": "7c6a67f4",
   "metadata": {},
   "outputs": [],
   "source": [
    "import numpy as np"
   ]
  },
  {
   "cell_type": "markdown",
   "id": "e3674a7e",
   "metadata": {},
   "source": [
    "# Problem 8.2"
   ]
  },
  {
   "cell_type": "code",
   "execution_count": 2,
   "id": "b12f1e52",
   "metadata": {},
   "outputs": [],
   "source": [
    "'''\n",
    "Implements Algorithm 8.1: Modified Gram-Schmidt\n",
    "Only works correctly for full rank matrices\n",
    "'''\n",
    "\n",
    "def mgs(A):\n",
    "    '''\n",
    "    A - numpy array with linearly independent columns\n",
    "    Q - orthogonal matrix whose columns span the range of mat\n",
    "    R - upper diagnonal matrix such that A = QR\n",
    "    '''\n",
    "    V = A.copy()\n",
    "    m,n = np.shape(V)\n",
    "    Q = np.zeros((m,n))\n",
    "    R = np.zeros((n,n))\n",
    "    for i in range(n):\n",
    "        R[i,i] = np.linalg.norm(V[:,i])\n",
    "        Q[:,i] = V[:,i]/R[i,i]\n",
    "        for j in range(i+1,n):\n",
    "            R[i,j] = np.dot(Q[:,i],V[:,j])\n",
    "            V[:,j] = V[:,j] - Q[:,i]*R[i,j]\n",
    "    return Q, R"
   ]
  },
  {
   "cell_type": "code",
   "execution_count": 4,
   "id": "43eaecc7",
   "metadata": {},
   "outputs": [
    {
     "name": "stdout",
     "output_type": "stream",
     "text": [
      "[[1 2]\n",
      " [3 4]\n",
      " [5 9]]\n",
      "[[ 0.16903085  0.        ]\n",
      " [ 0.50709255 -1.        ]\n",
      " [ 0.84515425  0.        ]]\n",
      "[[5.91607978 9.97282021]\n",
      " [0.         1.        ]]\n"
     ]
    }
   ],
   "source": [
    "A = np.array([[1,2],[3,4],[5,9]])\n",
    "Q,R = mgs(A)\n",
    "print(A)\n",
    "print(Q)\n",
    "print(R)"
   ]
  }
 ],
 "metadata": {
  "kernelspec": {
   "display_name": "Python 3 (ipykernel)",
   "language": "python",
   "name": "python3"
  },
  "language_info": {
   "codemirror_mode": {
    "name": "ipython",
    "version": 3
   },
   "file_extension": ".py",
   "mimetype": "text/x-python",
   "name": "python",
   "nbconvert_exporter": "python",
   "pygments_lexer": "ipython3",
   "version": "3.8.10"
  }
 },
 "nbformat": 4,
 "nbformat_minor": 5
}
