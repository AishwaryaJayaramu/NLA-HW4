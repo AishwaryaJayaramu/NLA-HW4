{
 "cells": [
  {
   "cell_type": "markdown",
   "id": "485da419",
   "metadata": {},
   "source": [
    "# Chapter 4 - Singular Value Decomposition"
   ]
  },
  {
   "cell_type": "code",
   "execution_count": 1,
   "id": "99c0af1b",
   "metadata": {},
   "outputs": [],
   "source": [
    "import numpy as np\n",
    "from matplotlib import patches\n",
    "import matplotlib.pyplot as plt"
   ]
  },
  {
   "cell_type": "markdown",
   "id": "01a8fd16",
   "metadata": {},
   "source": [
    "# Problem 4.3"
   ]
  },
  {
   "cell_type": "code",
   "execution_count": 2,
   "id": "a55d7fb2",
   "metadata": {},
   "outputs": [
    {
     "data": {
      "image/png": "[encoded data removed]",
      "text/plain": [
       "<Figure size 432x288 with 2 Axes>"
      ]
     },
     "metadata": {
      "needs_background": "light"
     },
     "output_type": "display_data"
    }
   ],
   "source": [
    "# define 2x2 matrix\n",
    "X = np.array([[-2,11],\n",
    "              [-10,5]])\n",
    "\n",
    "U,S,V = np.linalg.svd(X)\n",
    "\n",
    "# right singular vectors\n",
    "v1 = patches.Arrow(x = 0, y = 0, \n",
    "                   dx = V[0][0], \n",
    "                   dy = V[1][0],\n",
    "                   width = 0.2,\n",
    "                   color = \"black\")\n",
    "v2 = patches.Arrow(x = 0, y = 0, \n",
    "                   dx = V[0][1], \n",
    "                   dy = V[1][1],\n",
    "                   width = 0.2,\n",
    "                   color = \"black\")\n",
    "\n",
    "# unit circle (technically an ellipse)\n",
    "circ = patches.Ellipse((0,0), 2, 2)\n",
    "\n",
    "# left singular vectors, semi-axes of the image ellipse\n",
    "u1 = patches.Arrow(x = 0, y = 0, \n",
    "                   dx = S[0]*U[0][0], \n",
    "                   dy = S[0]*U[1][0],\n",
    "                   width = 0.2,\n",
    "                   color = \"black\")\n",
    "u2 = patches.Arrow(x = 0, y = 0, \n",
    "                   dx = S[1]*U[0][1], \n",
    "                   dy = S[1]*U[1][1],\n",
    "                   width = 0.2,\n",
    "                   color = \"black\")\n",
    "\n",
    "# angle of rotation of the ellipse\n",
    "if U[1][0] < 0:\n",
    "    ang = 2*np.pi - np.arccos(U[0][0])\n",
    "else:\n",
    "    ang = np.arccos(U[0][0])\n",
    "\n",
    "# ellipse representing the image of the unit circle    \n",
    "ellps = patches.Ellipse((0,0), 2*S[0], 2*S[1], angle = ang*180/np.pi)\n",
    "\n",
    "\n",
    "\n",
    "fig, (ax1, ax2) = plt.subplots(nrows = 1, ncols = 2)\n",
    "\n",
    "# left subplot\n",
    "ax1.add_patch(circ)\n",
    "ax1.add_patch(v1)\n",
    "ax1.add_patch(v2)\n",
    "\n",
    "ax1.set(xlim = (-1.5,1.5), ylim = (-1.5,1.5),\n",
    "        adjustable = 'box', aspect = 'equal')\n",
    "ax1.set_title(\"Right Singular Vectors\")\n",
    "\n",
    "\n",
    "# right subplot\n",
    "ax2.add_patch(ellps)\n",
    "ax2.add_patch(u1)\n",
    "ax2.add_patch(u2)\n",
    "\n",
    "ax2.set(xlim = (-S[0],S[0]), ylim = (-S[0],S[0]),\n",
    "        adjustable = 'box', aspect = 'equal')\n",
    "ax2.set_title(\"Left Singular Vectors\")\n",
    "\n",
    "#plt.savefig('ex3-svd.png')\n",
    "plt.show()"
   ]
  }
 ],
 "metadata": {
  "kernelspec": {
   "display_name": "Python 3 (ipykernel)",
   "language": "python",
   "name": "python3"
  },
  "language_info": {
   "codemirror_mode": {
    "name": "ipython",
    "version": 3
   },
   "file_extension": ".py",
   "mimetype": "text/x-python",
   "name": "python",
   "nbconvert_exporter": "python",
   "pygments_lexer": "ipython3",
   "version": "3.8.10"
  }
 },
 "nbformat": 4,
 "nbformat_minor": 5
}
