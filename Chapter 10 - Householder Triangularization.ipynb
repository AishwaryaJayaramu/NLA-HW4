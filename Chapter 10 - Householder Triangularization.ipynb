{
 "cells": [
  {
   "cell_type": "markdown",
   "id": "6733aa32",
   "metadata": {},
   "source": [
    "# Chapter 10 - Householder Triangularization"
   ]
  },
  {
   "cell_type": "code",
   "execution_count": 1,
   "id": "2c60e36f",
   "metadata": {},
   "outputs": [],
   "source": [
    "import numpy as np"
   ]
  },
  {
   "cell_type": "markdown",
   "id": "f21e79aa",
   "metadata": {},
   "source": [
    "#  Problem 10.2"
   ]
  },
  {
   "cell_type": "code",
   "execution_count": null,
   "id": "81ede38a",
   "metadata": {},
   "outputs": [],
   "source": [
    "def house(A):\n",
    "    R = A.copy()\n",
    "    m,n = A.shape\n",
    "    W = np.zeros((m,n))\n",
    "    for k in range(n):\n",
    "        x = R[k:,k]\n",
    "        e = np.zeros(x.shape)\n",
    "        e[0,0] = 1\n",
    "        v = np.sign(x[0])*np.linalg.norm(x)*e + x\n",
    "        v = v/np.linalg.norm(v)\n",
    "        W[k:,k] = v\n",
    "        R[k:,k] = R[k:,k] - 2*v*(v.conj().T @ R[k:,k:])\n",
    "    return W, R"
   ]
  },
  {
   "cell_type": "code",
   "execution_count": null,
   "id": "db0ce5d7",
   "metadata": {},
   "outputs": [],
   "source": [
    "def formQ(W):\n",
    "    m,n = W.shape\n",
    "    Q = np.eye(m)\n",
    "    for col in range(m):\n",
    "        for k in range(n-1,-1):\n",
    "            v = W[k:,k]\n",
    "            Q[:,col] = Q[:,col]-2*v*np.vdot(v,Q[:,col])\n",
    "    return Q"
   ]
  },
  {
   "cell_type": "markdown",
   "id": "dc81919a",
   "metadata": {},
   "source": [
    "# Problem 10.3"
   ]
  },
  {
   "cell_type": "code",
   "execution_count": null,
   "id": "55194d4a",
   "metadata": {},
   "outputs": [],
   "source": [
    "# mgs from Exercise 8.2\n",
    "def mgs(A):\n",
    "    '''\n",
    "    A - numpy array with linearly independent columns\n",
    "    Q - orthogonal matrix whose columns span the range of mat\n",
    "    R - upper diagnonal matrix such that A = QR\n",
    "    '''\n",
    "    V = A.copy()\n",
    "    m,n = np.shape(V)\n",
    "    Q = np.zeros((m,n))\n",
    "    R = np.zeros((n,n))\n",
    "    for i in range(n):\n",
    "        R[i,i] = np.linalg.norm(V[:,i])\n",
    "        Q[:,i] = V[:,i]/R[i,i]\n",
    "        for j in range(i+1,n):\n",
    "            R[i,j] = np.dot(Q[:,i],V[:,j])\n",
    "            V[:,j] = V[:,j] - Q[:,i]*R[i,j]\n",
    "    return Q, R"
   ]
  }
 ],
 "metadata": {
  "kernelspec": {
   "display_name": "Python 3 (ipykernel)",
   "language": "python",
   "name": "python3"
  },
  "language_info": {
   "codemirror_mode": {
    "name": "ipython",
    "version": 3
   },
   "file_extension": ".py",
   "mimetype": "text/x-python",
   "name": "python",
   "nbconvert_exporter": "python",
   "pygments_lexer": "ipython3",
   "version": "3.8.10"
  }
 },
 "nbformat": 4,
 "nbformat_minor": 5
}
